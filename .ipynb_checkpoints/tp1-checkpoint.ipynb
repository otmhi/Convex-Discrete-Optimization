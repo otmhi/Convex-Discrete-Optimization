{
 "cells": [
  {
   "cell_type": "markdown",
   "metadata": {},
   "source": [
    "# TP1 HomeWork"
   ]
  },
  {
   "cell_type": "code",
   "execution_count": 2,
   "metadata": {},
   "outputs": [
    {
     "name": "stdout",
     "output_type": "stream",
     "text": [
      "tps écoulé (gradient_rho_constant): 0.015623092651367188\n",
      "[-0.69056385  0.15469913 -0.61430107  0.4909626  -0.04630803]\n"
     ]
    }
   ],
   "source": [
    "import numpy as np\n",
    "from main import *"
   ]
  },
  {
   "cell_type": "markdown",
   "metadata": {},
   "source": [
    " **We define an adaptative version of the gradient descend algorithm** "
   ]
  },
  {
   "cell_type": "code",
   "execution_count": 3,
   "metadata": {},
   "outputs": [],
   "source": [
    "def gradient_rho_adaptatif(fun, fun_der, U0, rho, tol,args):\n",
    "    \n",
    "    # Fonction permettant de minimiser la fonction f(U) par rapport au vecteur U \n",
    "    # Méthode : gradient à pas fixe\n",
    "    # INPUTS :\n",
    "    # - han_f   : handle vers la fonction à minimiser\n",
    "    # - han_df  : handle vers le gradient de la fonction à minimiser\n",
    "    # - U0      : vecteur initial \n",
    "    # - rho     : paramètre gérant l'amplitude des déplacement \n",
    "    # - tol     : tolérance pour définir le critère d'arrêt\n",
    "    # OUTPUT : \n",
    "    # - GradResults : structure décrivant la solution\n",
    "\n",
    "\n",
    "    itermax=10000  # nombre maximal d'itérations \n",
    "    xn=U0\n",
    "    f=fun(xn,*args) # point initial de l'algorithme\n",
    "    it=0         # compteur pour les itérations\n",
    "    converged = False;\n",
    "    \n",
    "    while (~converged & (it < itermax)):\n",
    "        it=it+1\n",
    "        dfx=fun_der(xn,*args)# valeur courante de la fonction à minimiser\n",
    "        \n",
    "        xnp1=xn-rho*dfx\n",
    "        fnp1 = fun(xnp1,*args)\n",
    "        \n",
    "        if fnp1 < f :\n",
    "            \n",
    "            if abs(fnp1-f)<tol:\n",
    "                converged = True\n",
    "                \n",
    "            xn, f = xnp1, fnp1\n",
    "            rho *= 2\n",
    "        else :\n",
    "            rho /= 2\n",
    "\n",
    "    GradResults = {\n",
    "            'initial_x':U0,\n",
    "            'minimum':xnp1,\n",
    "            'f_minimum':fnp1,\n",
    "            'iterations':it,\n",
    "            'converged':converged\n",
    "            }\n",
    "    return GradResults"
   ]
  },
  {
   "cell_type": "code",
   "execution_count": 4,
   "metadata": {},
   "outputs": [
    {
     "data": {
      "text/plain": [
       "{'initial_x': array([1., 1., 1., 1., 1.]),\n",
       " 'minimum': array([-0.67000244,  0.1425606 , -0.61584071,  0.47887395, -0.02041732]),\n",
       " 'f_minimum': -1.8361443391078156,\n",
       " 'iterations': 386,\n",
       " 'converged': True}"
      ]
     },
     "execution_count": 4,
     "metadata": {},
     "output_type": "execute_result"
    }
   ],
   "source": [
    "gradient_rho_adaptatif(f1,df1,x0,rho=1,tol=1e-6,args=(B,S))"
   ]
  },
  {
   "cell_type": "markdown",
   "metadata": {},
   "source": [
    "## On va plot le nombre d'itération par rapport à rho"
   ]
  },
  {
   "cell_type": "code",
   "execution_count": null,
   "metadata": {},
   "outputs": [],
   "source": []
  },
  {
   "cell_type": "markdown",
   "metadata": {},
   "source": [
    "## Méthodes Quasi-Newton"
   ]
  },
  {
   "cell_type": "code",
   "execution_count": 5,
   "metadata": {},
   "outputs": [],
   "source": [
    "from scipy.optimize import minimize"
   ]
  },
  {
   "cell_type": "code",
   "execution_count": 6,
   "metadata": {},
   "outputs": [
    {
     "data": {
      "text/plain": [
       "      fun: -1.836962311965236\n",
       " hess_inv: array([[ 0.50041674, -0.21238233,  0.05674326, -0.28046232,  0.50962222],\n",
       "       [-0.21238233,  0.22402876,  0.03714748,  0.11546007, -0.34089541],\n",
       "       [ 0.05674326,  0.03714748,  0.12473992, -0.04895957, -0.09129864],\n",
       "       [-0.28046232,  0.11546007, -0.04895957,  0.20494128, -0.28975672],\n",
       "       [ 0.50962222, -0.34089541, -0.09129864, -0.28975672,  0.77797771]])\n",
       "      jac: array([ 0.00000000e+00,  8.94069672e-08, -2.98023224e-08,  1.49011612e-08,\n",
       "        1.49011612e-08])\n",
       "  message: 'Optimization terminated successfully.'\n",
       "     nfev: 91\n",
       "      nit: 10\n",
       "     njev: 13\n",
       "   status: 0\n",
       "  success: True\n",
       "        x: array([-0.6960314 ,  0.15793136, -0.61407083,  0.49414156, -0.05345805])"
      ]
     },
     "execution_count": 6,
     "metadata": {},
     "output_type": "execute_result"
    }
   ],
   "source": [
    "minimize(fun = f1, x0 = x0, args=(B,S), method='BFGS', tol=1e-6)"
   ]
  },
  {
   "cell_type": "markdown",
   "metadata": {},
   "source": [
    "## Résolution analytique"
   ]
  },
  {
   "cell_type": "code",
   "execution_count": 7,
   "metadata": {},
   "outputs": [
    {
     "data": {
      "text/plain": [
       "array([45.48200751, 14.49627115,  0.34399006,  1.89569112,  7.21954015])"
      ]
     },
     "execution_count": 7,
     "metadata": {},
     "output_type": "execute_result"
    }
   ],
   "source": [
    "np.linalg.eigvals(S)"
   ]
  },
  {
   "cell_type": "markdown",
   "metadata": {},
   "source": [
    "solution analytique existe"
   ]
  },
  {
   "cell_type": "code",
   "execution_count": 8,
   "metadata": {},
   "outputs": [
    {
     "data": {
      "text/plain": [
       "1.6653345369377348e-14"
      ]
     },
     "execution_count": 8,
     "metadata": {},
     "output_type": "execute_result"
    }
   ],
   "source": [
    "S_1 = np.linalg.inv(S)\n",
    "solution = 0.5*S_1*B\n",
    "np.abs(f1(solution, B, S) - minimize(fun = f1, x0 = x0, args=(B,S), method='BFGS', tol=1e-6)['fun'])"
   ]
  },
  {
   "cell_type": "markdown",
   "metadata": {},
   "source": [
    "## Optimisation sous contraintes"
   ]
  },
  {
   "cell_type": "code",
   "execution_count": 9,
   "metadata": {},
   "outputs": [
    {
     "data": {
      "text/plain": [
       "     fun: -0.13853161426486305\n",
       "     jac: array([5.65140147e-01, 1.70477480e-03, 4.86906105e+00, 1.77648850e-03,\n",
       "       2.70384207e-01])\n",
       " message: 'Optimization terminated successfully.'\n",
       "    nfev: 65\n",
       "     nit: 9\n",
       "    njev: 9\n",
       "  status: 0\n",
       " success: True\n",
       "       x: array([0.00000000e+00, 1.26984956e-01, 0.00000000e+00, 1.94536138e-02,\n",
       "       2.16628331e-15])"
      ]
     },
     "execution_count": 9,
     "metadata": {},
     "output_type": "execute_result"
    }
   ],
   "source": [
    "minimize(fun = f1, x0 = x0, args=(B,S), method='SLSQP', bounds=[(0,1)]*5, tol=1e-6)"
   ]
  },
  {
   "cell_type": "code",
   "execution_count": 10,
   "metadata": {},
   "outputs": [],
   "source": [
    "def f2(U,S):\n",
    "    n=U.shape[0]\n",
    "    U=np.matrix(U)\n",
    "    U.shape=(n,1)\n",
    "    fU = np.transpose(U) * S * U + np.transpose(U) * np.exp(U);\n",
    "    return float(fU)"
   ]
  },
  {
   "cell_type": "code",
   "execution_count": 11,
   "metadata": {},
   "outputs": [
    {
     "data": {
      "text/plain": [
       "     fun: 2.976067656614975e-15\n",
       "     jac: array([1.00000018, 1.00000013, 1.00000035, 1.00000023, 1.00000022])\n",
       " message: 'Optimization terminated successfully.'\n",
       "    nfev: 28\n",
       "     nit: 4\n",
       "    njev: 4\n",
       "  status: 0\n",
       " success: True\n",
       "       x: array([1.72929872e-16, 2.17964615e-15, 5.95736056e-16, 0.00000000e+00,\n",
       "       2.77555756e-17])"
      ]
     },
     "execution_count": 11,
     "metadata": {},
     "output_type": "execute_result"
    }
   ],
   "source": [
    "minimize(fun = f2, x0 = x0, args=(S), method='SLSQP', bounds=[(0,1)]*5, tol=1e-6)"
   ]
  },
  {
   "cell_type": "markdown",
   "metadata": {},
   "source": [
    "## Optimisation sous contraintes et pénalisation"
   ]
  },
  {
   "cell_type": "code",
   "execution_count": 12,
   "metadata": {},
   "outputs": [
    {
     "name": "stdout",
     "output_type": "stream",
     "text": [
      "0.0 5.0\n"
     ]
    }
   ],
   "source": [
    "#fonction de pénalisation classique \n",
    "Beta = lambda u : np.sum(np.maximum(u-1, 0)**2 + (np.maximum(-u,0))**2)\n",
    "print(Beta(x0), Beta(x0 - 2))"
   ]
  },
  {
   "cell_type": "code",
   "execution_count": 13,
   "metadata": {},
   "outputs": [
    {
     "name": "stdout",
     "output_type": "stream",
     "text": [
      "-0.13853173459306484\n",
      "[2.27345020e-09 1.26885930e-01 2.95427674e-10 1.94103684e-02\n",
      " 9.25641783e-10]\n"
     ]
    }
   ],
   "source": [
    "epsilon, start = 1/2, x0\n",
    "for k in range(100):\n",
    "    f1_penal = lambda U : f1(U,B,S) + (1/epsilon)*Beta(U)\n",
    "    start = minimize(fun = f1_penal, x0 = start, method='BFGS', tol=1e-6)['x']\n",
    "    epsilon /= 2\n",
    "    \n",
    "print(f1(start, B , S))\n",
    "print(start)"
   ]
  },
  {
   "cell_type": "code",
   "execution_count": 14,
   "metadata": {},
   "outputs": [
    {
     "name": "stdout",
     "output_type": "stream",
     "text": [
      "8.152761402346261e-11\n",
      "[7.19742181e-17 1.09058344e-11 1.98749448e-11 2.79335748e-11\n",
      " 2.28131881e-11]\n"
     ]
    }
   ],
   "source": [
    "epsilon, start = 1/2, x0\n",
    "for k in range(1000):\n",
    "    f2_penal = lambda U : f2(U,S) + (1/epsilon)*Beta(U)\n",
    "    start = minimize(fun = f2_penal, x0 = start, method='BFGS', tol=1e-6)['x']\n",
    "    epsilon /= 2\n",
    "    \n",
    "print(f2(start , S))\n",
    "print(start)"
   ]
  },
  {
   "cell_type": "markdown",
   "metadata": {},
   "source": [
    "## Méthodes duales "
   ]
  },
  {
   "cell_type": "code",
   "execution_count": 41,
   "metadata": {},
   "outputs": [],
   "source": [
    "# Lagrangien implementation \n",
    "\n",
    "def L1(U,B,S,p) : \n",
    "    vec = []\n",
    "    for i in U :\n",
    "        vec.append(-i)\n",
    "        vec.append(i-1)\n",
    "    return f1(U,B,S) + np.sum(p*np.array(vec))\n",
    "\n",
    "def dL1(U,B,S,p) : \n",
    "    vec = []\n",
    "    for i in U :\n",
    "        vec.append(-i)\n",
    "        vec.append(i-1)\n",
    "    return np.array(vec)\n",
    "    \n"
   ]
  },
  {
   "cell_type": "code",
   "execution_count": 57,
   "metadata": {},
   "outputs": [],
   "source": [
    "rho = 0.1 \n",
    "p = np.random.normal(0,1,10)\n",
    "for i in range(1000) : \n",
    "    x_min = minimize(fun = L1, x0 = x0, args=(B,S,p), method='BFGS', tol=1e-6)['x']\n",
    "    p = np.maximum(0 , p + rho*dL1(x_min,B,S,p))"
   ]
  },
  {
   "cell_type": "code",
   "execution_count": 58,
   "metadata": {},
   "outputs": [
    {
     "data": {
      "text/plain": [
       "-0.1388585904269647"
      ]
     },
     "execution_count": 58,
     "metadata": {},
     "output_type": "execute_result"
    }
   ],
   "source": [
    "L1(x_min,B,S,p)"
   ]
  },
  {
   "cell_type": "markdown",
   "metadata": {},
   "source": [
    "## Simulated Annealing "
   ]
  },
  {
   "cell_type": "code",
   "execution_count": 79,
   "metadata": {},
   "outputs": [
    {
     "name": "stdout",
     "output_type": "stream",
     "text": [
      "for try 1/5 we get : 1.7684698448826008\n",
      "for try 2/5 we get : 33.184396381016995\n",
      "for try 3/5 we get : 33.184396381336214\n",
      "for try 4/5 we get : 52.033952302469835\n",
      "for try 5/5 we get : -1.3731228087495317\n"
     ]
    }
   ],
   "source": [
    "def f3(U) : \n",
    "    return f1(U,B,S) + 10*np.sin(2*f1(U,B,S))\n",
    "for i in range(5) : \n",
    "    x_init = np.random.uniform(0,1,5)\n",
    "    print(\"for try {}/5 we get : {}\".format(i+1,minimize(fun = f3, x0 = x_init, method='BFGS', tol=1e-6)['fun']))"
   ]
  },
  {
   "cell_type": "code",
   "execution_count": 80,
   "metadata": {},
   "outputs": [],
   "source": [
    "from scipy.optimize import basinhopping \n"
   ]
  },
  {
   "cell_type": "code",
   "execution_count": 119,
   "metadata": {},
   "outputs": [
    {
     "name": "stdout",
     "output_type": "stream",
     "text": [
      "for try 1/5 we get : -10.797900769519423\n",
      "for try 1/5 we get : [ 0.02251051  0.12053079 -0.25249724  0.12418868  0.16967231]\n",
      "for try 2/5 we get : -10.797900769519423\n",
      "for try 2/5 we get : [-0.5485277   0.26902965 -0.860055    0.50548761  0.39285709]\n",
      "for try 3/5 we get : -10.797900769519423\n",
      "for try 3/5 we get : [-0.40728818  0.25642756 -0.68196585  0.57163556  0.1880288 ]\n",
      "for try 4/5 we get : -10.797900769519423\n",
      "for try 4/5 we get : [-1.41516198  0.53603595 -0.84470001  0.90836063 -0.80750152]\n",
      "for try 5/5 we get : -10.797900769519423\n",
      "for try 5/5 we get : [-0.28337391 -0.26499577 -0.46094914  0.29256113  0.18814096]\n"
     ]
    }
   ],
   "source": [
    "for i in range(5) : \n",
    "    x_init = np.random.uniform(0,1,5)\n",
    "    print(\"for try {}/5 we get : {}\".format(i+1,basinhopping(f3, x0 )['fun']))\n",
    "    print(\"for try {}/5 we get : {}\".format(i+1,basinhopping(f3, x0 )['x']))"
   ]
  },
  {
   "cell_type": "code",
   "execution_count": 113,
   "metadata": {},
   "outputs": [
    {
     "name": "stdout",
     "output_type": "stream",
     "text": [
      "Epoch 0\n",
      "Temperature 50000 Length 100\n",
      "Epoch 1\n",
      "Temperature 40000.0 Length 120\n",
      "Epoch 2\n",
      "Temperature 32000.0 Length 144\n",
      "Epoch 3\n",
      "Temperature 25600.0 Length 173\n",
      "Epoch 4\n",
      "Temperature 20480.0 Length 208\n",
      "Epoch 5\n",
      "Temperature 16384.0 Length 250\n",
      "Epoch 6\n",
      "Temperature 13107.2 Length 300\n",
      "Epoch 7\n",
      "Temperature 10485.760000000002 Length 360\n",
      "Epoch 8\n",
      "Temperature 8388.608000000002 Length 432\n",
      "Epoch 9\n",
      "Temperature 6710.886400000002 Length 519\n",
      "Epoch 10\n",
      "Temperature 5368.709120000002 Length 623\n",
      "Epoch 11\n",
      "Temperature 4294.967296000002 Length 748\n",
      "Epoch 12\n",
      "Temperature 3435.9738368000017 Length 898\n",
      "Epoch 13\n",
      "Temperature 2748.7790694400014 Length 1078\n",
      "Epoch 14\n",
      "Temperature 2199.023255552001 Length 1294\n",
      "Epoch 15\n",
      "Temperature 1759.218604441601 Length 1553\n",
      "Epoch 16\n",
      "Temperature 1407.3748835532808 Length 1864\n",
      "Epoch 17\n",
      "Temperature 1125.8999068426247 Length 2237\n",
      "Epoch 18\n",
      "Temperature 900.7199254740998 Length 2685\n",
      "Epoch 19\n",
      "Temperature 720.5759403792799 Length 3222\n",
      "Epoch 20\n",
      "Temperature 576.460752303424 Length 3867\n",
      "Epoch 21\n",
      "Temperature 461.16860184273924 Length 4641\n",
      "Epoch 22\n",
      "Temperature 368.9348814741914 Length 5570\n",
      "Epoch 23\n",
      "Temperature 295.14790517935313 Length 6684\n",
      "Epoch 24\n",
      "Temperature 236.1183241434825 Length 8021\n",
      "Epoch 25\n",
      "Temperature 188.89465931478603 Length 9626\n",
      "Epoch 26\n",
      "Temperature 151.11572745182883 Length 11552\n",
      "Epoch 27\n",
      "Temperature 120.89258196146307 Length 13863\n",
      "Epoch 28\n",
      "Temperature 96.71406556917046 Length 16636\n",
      "Epoch 29\n",
      "Temperature 77.37125245533637 Length 19964\n",
      "frac accepted 0.9532424181427804 total iterations 119232 bmeta {'index': 74379, 'temp': 120.89258196146307}\n"
     ]
    }
   ],
   "source": [
    "tf = lambda t: 0.8*t #temperature function\n",
    "itf = lambda length: np.ceil(1.2*length) #iteration function\n",
    "pfxs = lambda s, x: x + s*np.random.normal()\n",
    "from functools import partial\n",
    "pf = partial(pfxs, 0.1)\n",
    "\n",
    "def sa(energyfunc, initials, epochs, tempfunc, iterfunc, proposalfunc):\n",
    "    accumulator=[]\n",
    "    best_solution = old_solution = initials['solution']\n",
    "    T=initials['T']\n",
    "    length=initials['length']\n",
    "    best_energy = old_energy = energyfunc(old_solution)\n",
    "    accepted=0\n",
    "    total=0\n",
    "    for index in range(epochs):\n",
    "        print(\"Epoch\", index)\n",
    "        if index > 0:\n",
    "            T = tempfunc(T)\n",
    "            length=int(iterfunc(length))\n",
    "        print(\"Temperature\", T, \"Length\", length)\n",
    "        for it in range(length):\n",
    "            total+=1\n",
    "            new_solution = proposalfunc(old_solution)\n",
    "            new_energy = energyfunc(new_solution)\n",
    "            # Use a min here as you could get a \"probability\" > 1\n",
    "            alpha = min(1, np.exp((old_energy - new_energy)/T))\n",
    "            if ((new_energy < old_energy) or (np.random.uniform() < alpha)):\n",
    "                # Accept proposed solution\n",
    "                accepted+=1\n",
    "                accumulator.append((T, new_solution, new_energy))\n",
    "                if new_energy < best_energy:\n",
    "                    # Replace previous best with this one\n",
    "                    best_energy = new_energy\n",
    "                    best_solution = new_solution\n",
    "                    best_index=total\n",
    "                    best_temp=T\n",
    "                old_energy = new_energy\n",
    "                old_solution = new_solution\n",
    "            else:\n",
    "                # Keep the old stuff\n",
    "                accumulator.append((T, old_solution, old_energy))\n",
    "    \n",
    "    best_meta=dict(index=best_index, temp=best_temp)\n",
    "    print(\"frac accepted\", accepted/total, \"total iterations\", total, 'bmeta', best_meta)\n",
    "    return best_meta, best_solution, best_energy, accumulator\n",
    "\n",
    "\n",
    "inits=dict(solution=np.random.uniform(0,1,5), length=100, T=50000)\n",
    "bmeta, bs, be, out = sa(f3, inits, 30, tf, itf, pf)"
   ]
  },
  {
   "cell_type": "code",
   "execution_count": 114,
   "metadata": {},
   "outputs": [
    {
     "data": {
      "text/plain": [
       "-7.656308091595568"
      ]
     },
     "execution_count": 114,
     "metadata": {},
     "output_type": "execute_result"
    }
   ],
   "source": [
    "be"
   ]
  },
  {
   "cell_type": "code",
   "execution_count": 118,
   "metadata": {},
   "outputs": [
    {
     "data": {
      "text/plain": [
       "array([-0.04702748,  0.10920125, -0.094156  , -0.16453894, -0.24823388])"
      ]
     },
     "execution_count": 118,
     "metadata": {},
     "output_type": "execute_result"
    }
   ],
   "source": [
    "bs"
   ]
  },
  {
   "cell_type": "code",
   "execution_count": 92,
   "metadata": {},
   "outputs": [],
   "source": [
    "h= map(f3, range(0, 100))"
   ]
  },
  {
   "cell_type": "code",
   "execution_count": 93,
   "metadata": {},
   "outputs": [
    {
     "data": {
      "text/plain": [
       "<map at 0x17a84299b70>"
      ]
     },
     "execution_count": 93,
     "metadata": {},
     "output_type": "execute_result"
    }
   ],
   "source": []
  },
  {
   "cell_type": "code",
   "execution_count": null,
   "metadata": {},
   "outputs": [],
   "source": []
  }
 ],
 "metadata": {
  "kernelspec": {
   "display_name": "Python 3",
   "language": "python",
   "name": "python3"
  },
  "language_info": {
   "codemirror_mode": {
    "name": "ipython",
    "version": 3
   },
   "file_extension": ".py",
   "mimetype": "text/x-python",
   "name": "python",
   "nbconvert_exporter": "python",
   "pygments_lexer": "ipython3",
   "version": "3.7.0"
  }
 },
 "nbformat": 4,
 "nbformat_minor": 2
}
