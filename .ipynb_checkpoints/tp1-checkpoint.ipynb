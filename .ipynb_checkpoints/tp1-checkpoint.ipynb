{
 "cells": [
  {
   "cell_type": "markdown",
   "metadata": {},
   "source": [
    "# TP1 HomeWork"
   ]
  },
  {
   "cell_type": "code",
   "execution_count": null,
   "metadata": {},
   "outputs": [],
   "source": [
    "print('mamak')"
   ]
  },
  {
   "cell_type": "code",
   "execution_count": null,
   "metadata": {},
   "outputs": [],
   "source": [
    "import numpy as np\n",
    "from main import *"
   ]
  },
  {
   "cell_type": "markdown",
   "metadata": {},
   "source": [
    " **We define an adaptative version of the gradient descend algorithm** "
   ]
  },
  {
   "cell_type": "code",
   "execution_count": null,
   "metadata": {},
   "outputs": [],
   "source": [
    "def gradient_rho_adaptatif(fun, fun_der, U0, rho, tol,args):\n",
    "    \n",
    "    # Fonction permettant de minimiser la fonction f(U) par rapport au vecteur U \n",
    "    # Méthode : gradient à pas fixe\n",
    "    # INPUTS :\n",
    "    # - han_f   : handle vers la fonction à minimiser\n",
    "    # - han_df  : handle vers le gradient de la fonction à minimiser\n",
    "    # - U0      : vecteur initial \n",
    "    # - rho     : paramètre gérant l'amplitude des déplacement \n",
    "    # - tol     : tolérance pour définir le critère d'arrêt\n",
    "    # OUTPUT : \n",
    "    # - GradResults : structure décrivant la solution\n",
    "\n",
    "\n",
    "    itermax=10000  # nombre maximal d'itérations \n",
    "    xn=U0\n",
    "    f=fun(xn,*args) # point initial de l'algorithme\n",
    "    it=0         # compteur pour les itérations\n",
    "    converged = False;\n",
    "    \n",
    "    while (~converged & (it < itermax)):\n",
    "        it=it+1\n",
    "        dfx=fun_der(xn,*args)# valeur courante de la fonction à minimiser\n",
    "        \n",
    "        xnp1=xn-rho*dfx\n",
    "        fnp1 = fun(xnp1,*args)\n",
    "        \n",
    "        if fnp1 < f :\n",
    "            \n",
    "            if abs(fnp1-f)<tol:\n",
    "                converged = True\n",
    "                \n",
    "            xn, f = xnp1, fnp1\n",
    "            rho *= 2\n",
    "        else :\n",
    "            rho /= 2\n",
    "\n",
    "    GradResults = {\n",
    "            'initial_x':U0,\n",
    "            'minimum':xnp1,\n",
    "            'f_minimum':fnp1,\n",
    "            'iterations':it,\n",
    "            'converged':converged\n",
    "            }\n",
    "    return GradResults"
   ]
  },
  {
   "cell_type": "code",
   "execution_count": null,
   "metadata": {},
   "outputs": [],
   "source": [
    "gradient_rho_adaptatif(f1,df1,x0,rho=1,tol=1e-6,args=(B,S))"
   ]
  },
  {
   "cell_type": "markdown",
   "metadata": {},
   "source": [
    "## On va plot le nombre d'itération par rapport à rho"
   ]
  },
  {
   "cell_type": "code",
   "execution_count": null,
   "metadata": {},
   "outputs": [],
   "source": []
  },
  {
   "cell_type": "markdown",
   "metadata": {},
   "source": [
    "## Méthodes Quasi-Newton"
   ]
  },
  {
   "cell_type": "code",
   "execution_count": null,
   "metadata": {},
   "outputs": [],
   "source": [
    "from scipy.optimize import minimize"
   ]
  },
  {
   "cell_type": "code",
   "execution_count": null,
   "metadata": {},
   "outputs": [],
   "source": [
    "minimize(fun = f1, x0 = x0, args=(B,S), method='BFGS', tol=1e-6)"
   ]
  },
  {
   "cell_type": "markdown",
   "metadata": {},
   "source": [
    "## Résolution analytique"
   ]
  },
  {
   "cell_type": "code",
   "execution_count": null,
   "metadata": {},
   "outputs": [],
   "source": [
    "np.linalg.eigvals(S)"
   ]
  },
  {
   "cell_type": "markdown",
   "metadata": {},
   "source": [
    "solution analytique existe"
   ]
  },
  {
   "cell_type": "code",
   "execution_count": null,
   "metadata": {},
   "outputs": [],
   "source": [
    "S_1 = np.linalg.inv(S)\n",
    "solution = 0.5*S_1*B\n",
    "np.abs(f1(solution, B, S) - minimize(fun = f1, x0 = x0, args=(B,S), method='BFGS', tol=1e-6)['fun'])"
   ]
  },
  {
   "cell_type": "markdown",
   "metadata": {},
   "source": [
    "## Optimisation sous contraintes"
   ]
  },
  {
   "cell_type": "code",
   "execution_count": null,
   "metadata": {},
   "outputs": [],
   "source": [
    "minimize(fun = f1, x0 = x0, args=(B,S), method='SLSQP', bounds=[(0,1)]*5, tol=1e-6)"
   ]
  },
  {
   "cell_type": "code",
   "execution_count": null,
   "metadata": {},
   "outputs": [],
   "source": [
    "def f2(U,S):\n",
    "    n=U.shape[0]\n",
    "    U=np.matrix(U)\n",
    "    U.shape=(n,1)\n",
    "    fU = np.transpose(U) * S * U + np.transpose(U) * np.exp(U);\n",
    "    return float(fU)"
   ]
  },
  {
   "cell_type": "code",
   "execution_count": null,
   "metadata": {},
   "outputs": [],
   "source": [
    "minimize(fun = f2, x0 = x0, args=(S), method='SLSQP', bounds=[(0,1)]*5, tol=1e-6)"
   ]
  },
  {
   "cell_type": "markdown",
   "metadata": {},
   "source": [
    "## Optimisation sous contraintes et pénalisation"
   ]
  },
  {
   "cell_type": "code",
   "execution_count": null,
   "metadata": {},
   "outputs": [],
   "source": [
    "#fonction de pénalisation classique \n",
    "Beta = lambda u : np.sum(np.maximum(u-1, 0)**2 + (np.maximum(-u,0))**2)\n",
    "print(Beta(x0), Beta(x0 - 2))"
   ]
  },
  {
   "cell_type": "code",
   "execution_count": null,
   "metadata": {},
   "outputs": [],
   "source": [
    "epsilon, start = 1/2, x0\n",
    "for k in range(100):\n",
    "    f1_penal = lambda U : f1(U,B,S) + (1/epsilon)*Beta(U)\n",
    "    start = minimize(fun = f1_penal, x0 = start, method='BFGS', tol=1e-6)['x']\n",
    "    epsilon /= 2\n",
    "    \n",
    "print(f1(start, B , S))\n",
    "print(start)"
   ]
  },
  {
   "cell_type": "code",
   "execution_count": null,
   "metadata": {},
   "outputs": [],
   "source": [
    "epsilon, start = 1/2, x0\n",
    "for k in range(1000):\n",
    "    f2_penal = lambda U : f2(U,S) + (1/epsilon)*Beta(U)\n",
    "    start = minimize(fun = f2_penal, x0 = start, method='BFGS', tol=1e-6)['x']\n",
    "    epsilon /= 2\n",
    "    \n",
    "print(f2(start , S))\n",
    "print(start)"
   ]
  },
  {
   "cell_type": "markdown",
   "metadata": {},
   "source": [
    "## Méthodes duales "
   ]
  },
  {
   "cell_type": "code",
   "execution_count": null,
   "metadata": {},
   "outputs": [],
   "source": []
  }
 ],
 "metadata": {
  "kernelspec": {
   "display_name": "Python 3",
   "language": "python",
   "name": "python3"
  },
  "language_info": {
   "codemirror_mode": {
    "name": "ipython",
    "version": 3
   },
   "file_extension": ".py",
   "mimetype": "text/x-python",
   "name": "python",
   "nbconvert_exporter": "python",
   "pygments_lexer": "ipython3",
   "version": "3.6.5"
  }
 },
 "nbformat": 4,
 "nbformat_minor": 2
}
