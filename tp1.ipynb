{
 "cells": [
  {
   "cell_type": "markdown",
   "metadata": {},
   "source": [
    "# TP1 HomeWork"
   ]
  },
  {
   "cell_type": "code",
   "execution_count": 2,
   "metadata": {},
   "outputs": [
    {
     "name": "stdout",
     "output_type": "stream",
     "text": [
      "tps écoulé (gradient_rho_constant): 0.015623092651367188\n",
      "[-0.69056385  0.15469913 -0.61430107  0.4909626  -0.04630803]\n"
     ]
    }
   ],
   "source": [
    "import numpy as np\n",
    "from main import *"
   ]
  },
  {
   "cell_type": "markdown",
   "metadata": {},
   "source": [
    " **We define an adaptative version of the gradient descend algorithm** "
   ]
  },
  {
   "cell_type": "code",
   "execution_count": 3,
   "metadata": {},
   "outputs": [],
   "source": [
    "def gradient_rho_adaptatif(fun, fun_der, U0, rho, tol,args):\n",
    "    \n",
    "    # Fonction permettant de minimiser la fonction f(U) par rapport au vecteur U \n",
    "    # Méthode : gradient à pas fixe\n",
    "    # INPUTS :\n",
    "    # - han_f   : handle vers la fonction à minimiser\n",
    "    # - han_df  : handle vers le gradient de la fonction à minimiser\n",
    "    # - U0      : vecteur initial \n",
    "    # - rho     : paramètre gérant l'amplitude des déplacement \n",
    "    # - tol     : tolérance pour définir le critère d'arrêt\n",
    "    # OUTPUT : \n",
    "    # - GradResults : structure décrivant la solution\n",
    "\n",
    "\n",
    "    itermax=10000  # nombre maximal d'itérations \n",
    "    xn=U0\n",
    "    f=fun(xn,*args) # point initial de l'algorithme\n",
    "    it=0         # compteur pour les itérations\n",
    "    converged = False;\n",
    "    \n",
    "    while (~converged & (it < itermax)):\n",
    "        it=it+1\n",
    "        dfx=fun_der(xn,*args)# valeur courante de la fonction à minimiser\n",
    "        \n",
    "        xnp1=xn-rho*dfx\n",
    "        fnp1 = fun(xnp1,*args)\n",
    "        \n",
    "        if fnp1 < f :\n",
    "            \n",
    "            if abs(fnp1-f)<tol:\n",
    "                converged = True\n",
    "                \n",
    "            xn, f = xnp1, fnp1\n",
    "            rho *= 2\n",
    "        else :\n",
    "            rho /= 2\n",
    "\n",
    "    GradResults = {\n",
    "            'initial_x':U0,\n",
    "            'minimum':xnp1,\n",
    "            'f_minimum':fnp1,\n",
    "            'iterations':it,\n",
    "            'converged':converged\n",
    "            }\n",
    "    return GradResults"
   ]
  },
  {
   "cell_type": "code",
   "execution_count": 4,
   "metadata": {},
   "outputs": [
    {
     "data": {
      "text/plain": [
       "{'initial_x': array([1., 1., 1., 1., 1.]),\n",
       " 'minimum': array([-0.67000244,  0.1425606 , -0.61584071,  0.47887395, -0.02041732]),\n",
       " 'f_minimum': -1.8361443391078156,\n",
       " 'iterations': 386,\n",
       " 'converged': True}"
      ]
     },
     "execution_count": 4,
     "metadata": {},
     "output_type": "execute_result"
    }
   ],
   "source": [
    "gradient_rho_adaptatif(f1,df1,x0,rho=1,tol=1e-6,args=(B,S))"
   ]
  },
  {
   "cell_type": "markdown",
   "metadata": {},
   "source": [
    "## On va plot le nombre d'itération par rapport à rho"
   ]
  },
  {
   "cell_type": "code",
   "execution_count": null,
   "metadata": {},
   "outputs": [],
   "source": []
  },
  {
   "cell_type": "markdown",
   "metadata": {},
   "source": [
    "## Méthodes Quasi-Newton"
   ]
  },
  {
   "cell_type": "code",
   "execution_count": 5,
   "metadata": {},
   "outputs": [],
   "source": [
    "from scipy.optimize import minimize"
   ]
  },
  {
   "cell_type": "code",
   "execution_count": 6,
   "metadata": {},
   "outputs": [
    {
     "data": {
      "text/plain": [
       "      fun: -1.836962311965236\n",
       " hess_inv: array([[ 0.50041674, -0.21238233,  0.05674326, -0.28046232,  0.50962222],\n",
       "       [-0.21238233,  0.22402876,  0.03714748,  0.11546007, -0.34089541],\n",
       "       [ 0.05674326,  0.03714748,  0.12473992, -0.04895957, -0.09129864],\n",
       "       [-0.28046232,  0.11546007, -0.04895957,  0.20494128, -0.28975672],\n",
       "       [ 0.50962222, -0.34089541, -0.09129864, -0.28975672,  0.77797771]])\n",
       "      jac: array([ 0.00000000e+00,  8.94069672e-08, -2.98023224e-08,  1.49011612e-08,\n",
       "        1.49011612e-08])\n",
       "  message: 'Optimization terminated successfully.'\n",
       "     nfev: 91\n",
       "      nit: 10\n",
       "     njev: 13\n",
       "   status: 0\n",
       "  success: True\n",
       "        x: array([-0.6960314 ,  0.15793136, -0.61407083,  0.49414156, -0.05345805])"
      ]
     },
     "execution_count": 6,
     "metadata": {},
     "output_type": "execute_result"
    }
   ],
   "source": [
    "minimize(fun = f1, x0 = x0, args=(B,S), method='BFGS', tol=1e-6)"
   ]
  },
  {
   "cell_type": "markdown",
   "metadata": {},
   "source": [
    "## Résolution analytique"
   ]
  },
  {
   "cell_type": "code",
   "execution_count": 7,
   "metadata": {},
   "outputs": [
    {
     "data": {
      "text/plain": [
       "array([45.48200751, 14.49627115,  0.34399006,  1.89569112,  7.21954015])"
      ]
     },
     "execution_count": 7,
     "metadata": {},
     "output_type": "execute_result"
    }
   ],
   "source": [
    "np.linalg.eigvals(S)"
   ]
  },
  {
   "cell_type": "markdown",
   "metadata": {},
   "source": [
    "solution analytique existe"
   ]
  },
  {
   "cell_type": "code",
   "execution_count": 8,
   "metadata": {},
   "outputs": [
    {
     "data": {
      "text/plain": [
       "1.6653345369377348e-14"
      ]
     },
     "execution_count": 8,
     "metadata": {},
     "output_type": "execute_result"
    }
   ],
   "source": [
    "S_1 = np.linalg.inv(S)\n",
    "solution = 0.5*S_1*B\n",
    "np.abs(f1(solution, B, S) - minimize(fun = f1, x0 = x0, args=(B,S), method='BFGS', tol=1e-6)['fun'])"
   ]
  },
  {
   "cell_type": "markdown",
   "metadata": {},
   "source": [
    "## Optimisation sous contraintes"
   ]
  },
  {
   "cell_type": "code",
   "execution_count": 9,
   "metadata": {},
   "outputs": [
    {
     "data": {
      "text/plain": [
       "     fun: -0.13853161426486305\n",
       "     jac: array([5.65140147e-01, 1.70477480e-03, 4.86906105e+00, 1.77648850e-03,\n",
       "       2.70384207e-01])\n",
       " message: 'Optimization terminated successfully.'\n",
       "    nfev: 65\n",
       "     nit: 9\n",
       "    njev: 9\n",
       "  status: 0\n",
       " success: True\n",
       "       x: array([0.00000000e+00, 1.26984956e-01, 0.00000000e+00, 1.94536138e-02,\n",
       "       2.16628331e-15])"
      ]
     },
     "execution_count": 9,
     "metadata": {},
     "output_type": "execute_result"
    }
   ],
   "source": [
    "minimize(fun = f1, x0 = x0, args=(B,S), method='SLSQP', bounds=[(0,1)]*5, tol=1e-6)"
   ]
  },
  {
   "cell_type": "code",
   "execution_count": 10,
   "metadata": {},
   "outputs": [],
   "source": [
    "def f2(U,S):\n",
    "    n=U.shape[0]\n",
    "    U=np.matrix(U)\n",
    "    U.shape=(n,1)\n",
    "    fU = np.transpose(U) * S * U + np.transpose(U) * np.exp(U);\n",
    "    return float(fU)"
   ]
  },
  {
   "cell_type": "code",
   "execution_count": 11,
   "metadata": {},
   "outputs": [
    {
     "data": {
      "text/plain": [
       "     fun: 2.976067656614975e-15\n",
       "     jac: array([1.00000018, 1.00000013, 1.00000035, 1.00000023, 1.00000022])\n",
       " message: 'Optimization terminated successfully.'\n",
       "    nfev: 28\n",
       "     nit: 4\n",
       "    njev: 4\n",
       "  status: 0\n",
       " success: True\n",
       "       x: array([1.72929872e-16, 2.17964615e-15, 5.95736056e-16, 0.00000000e+00,\n",
       "       2.77555756e-17])"
      ]
     },
     "execution_count": 11,
     "metadata": {},
     "output_type": "execute_result"
    }
   ],
   "source": [
    "minimize(fun = f2, x0 = x0, args=(S), method='SLSQP', bounds=[(0,1)]*5, tol=1e-6)"
   ]
  },
  {
   "cell_type": "markdown",
   "metadata": {},
   "source": [
    "## Optimisation sous contraintes et pénalisation"
   ]
  },
  {
   "cell_type": "code",
   "execution_count": 12,
   "metadata": {},
   "outputs": [
    {
     "name": "stdout",
     "output_type": "stream",
     "text": [
      "0.0 5.0\n"
     ]
    }
   ],
   "source": [
    "#fonction de pénalisation classique \n",
    "Beta = lambda u : np.sum(np.maximum(u-1, 0)**2 + (np.maximum(-u,0))**2)\n",
    "print(Beta(x0), Beta(x0 - 2))"
   ]
  },
  {
   "cell_type": "code",
   "execution_count": 13,
   "metadata": {},
   "outputs": [
    {
     "name": "stdout",
     "output_type": "stream",
     "text": [
      "-0.13853173459306484\n",
      "[2.27345020e-09 1.26885930e-01 2.95427674e-10 1.94103684e-02\n",
      " 9.25641783e-10]\n"
     ]
    }
   ],
   "source": [
    "epsilon, start = 1/2, x0\n",
    "for k in range(100):\n",
    "    f1_penal = lambda U : f1(U,B,S) + (1/epsilon)*Beta(U)\n",
    "    start = minimize(fun = f1_penal, x0 = start, method='BFGS', tol=1e-6)['x']\n",
    "    epsilon /= 2\n",
    "    \n",
    "print(f1(start, B , S))\n",
    "print(start)"
   ]
  },
  {
   "cell_type": "code",
   "execution_count": 14,
   "metadata": {},
   "outputs": [
    {
     "name": "stdout",
     "output_type": "stream",
     "text": [
      "8.152761402346261e-11\n",
      "[7.19742181e-17 1.09058344e-11 1.98749448e-11 2.79335748e-11\n",
      " 2.28131881e-11]\n"
     ]
    }
   ],
   "source": [
    "epsilon, start = 1/2, x0\n",
    "for k in range(1000):\n",
    "    f2_penal = lambda U : f2(U,S) + (1/epsilon)*Beta(U)\n",
    "    start = minimize(fun = f2_penal, x0 = start, method='BFGS', tol=1e-6)['x']\n",
    "    epsilon /= 2\n",
    "    \n",
    "print(f2(start , S))\n",
    "print(start)"
   ]
  },
  {
   "cell_type": "markdown",
   "metadata": {},
   "source": [
    "## Méthodes duales "
   ]
  },
  {
   "cell_type": "code",
   "execution_count": null,
   "metadata": {},
   "outputs": [],
   "source": []
  },
  {
   "cell_type": "code",
   "execution_count": null,
   "metadata": {},
   "outputs": [],
   "source": []
  },
  {
   "cell_type": "code",
   "execution_count": null,
   "metadata": {},
   "outputs": [],
   "source": []
  },
  {
   "cell_type": "code",
   "execution_count": null,
   "metadata": {},
   "outputs": [],
   "source": []
  },
  {
   "cell_type": "code",
   "execution_count": null,
   "metadata": {},
   "outputs": [],
   "source": []
  }
 ],
 "metadata": {
  "kernelspec": {
   "display_name": "Python 3",
   "language": "python",
   "name": "python3"
  },
  "language_info": {
   "codemirror_mode": {
    "name": "ipython",
    "version": 3
   },
   "file_extension": ".py",
   "mimetype": "text/x-python",
   "name": "python",
   "nbconvert_exporter": "python",
   "pygments_lexer": "ipython3",
   "version": "3.7.0"
  }
 },
 "nbformat": 4,
 "nbformat_minor": 2
}
