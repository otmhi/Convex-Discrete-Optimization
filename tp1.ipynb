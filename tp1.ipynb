{
 "cells": [
  {
   "cell_type": "markdown",
   "metadata": {},
   "source": [
    "# First Assignment"
   ]
  },
  {
   "cell_type": "code",
   "execution_count": 2,
   "metadata": {},
   "outputs": [],
   "source": [
    "%matplotlib inline\n",
    "import matplotlib.pyplot as plt\n",
    "import seaborn as sns; sns.set()\n",
    "import numpy as np\n",
    "from main import *"
   ]
  },
  {
   "cell_type": "markdown",
   "metadata": {},
   "source": [
    "## 1.1 Optimisation without constraints"
   ]
  },
  {
   "cell_type": "markdown",
   "metadata": {},
   "source": [
    "#### 1.1.1 Gradient methods"
   ]
  },
  {
   "cell_type": "markdown",
   "metadata": {},
   "source": [
    "Given the implementation of the gradient descent algorithm with a constant stepsize, we try to study its convergence with different step sizes"
   ]
  },
  {
   "cell_type": "code",
   "execution_count": 3,
   "metadata": {},
   "outputs": [
    {
     "name": "stderr",
     "output_type": "stream",
     "text": [
      "/home/otmane/Desktop/3A/centrale/opt/tp/main.py:57: RuntimeWarning: invalid value encountered in subtract\n",
      "  xnp1=xn-rho*dfx # nouveau point courant (x_{n+1})\n"
     ]
    },
    {
     "name": "stdout",
     "output_type": "stream",
     "text": [
      "for 0.1, did the algorithm converge?  False\n",
      "for 0.05, did the algorithm converge?  False\n",
      "for 0.01, did the algorithm converge?  True\n",
      "for 0.001, did the algorithm converge?  True\n"
     ]
    }
   ],
   "source": [
    "rhos = [0.1, 0.05, 0.01, 0.001]\n",
    "for rho in rhos :\n",
    "    results = gradient_rho_constant(f1,df1,x0,rho=rho,tol=1e-6,args=(B,S))\n",
    "    print('for '+ str(rho) +', did the algorithm converge? ', results['converged'])"
   ]
  },
  {
   "cell_type": "markdown",
   "metadata": {},
   "source": [
    "We can see that for high values of rho, the algorithm does not converge, it even results on invalid values for the update rule ( xnp1 = inf ). So we either reduce the stepsize parameter or define an adaptative algorithm that can handle this issue."
   ]
  },
  {
   "cell_type": "markdown",
   "metadata": {},
   "source": [
    " **We define an adaptative version of the gradient descend algorithm** "
   ]
  },
  {
   "cell_type": "code",
   "execution_count": 4,
   "metadata": {},
   "outputs": [],
   "source": [
    "def gradient_rho_adaptatif(fun, fun_der, U0, rho, tol,args):\n",
    "    \n",
    "    # Fonction permettant de minimiser la fonction f(U) par rapport au vecteur U \n",
    "    # Méthode : gradient à pas fixe\n",
    "    # INPUTS :\n",
    "    # - han_f   : handle vers la fonction à minimiser\n",
    "    # - han_df  : handle vers le gradient de la fonction à minimiser\n",
    "    # - U0      : vecteur initial \n",
    "    # - rho     : paramètre gérant l'amplitude des déplacement \n",
    "    # - tol     : tolérance pour définir le critère d'arrêt\n",
    "    # OUTPUT : \n",
    "    # - GradResults : structure décrivant la solution\n",
    "\n",
    "\n",
    "    itermax=10000  # nombre maximal d'itérations \n",
    "    xn=U0\n",
    "    f=fun(xn,*args) # point initial de l'algorithme\n",
    "    it=0         # compteur pour les itérations\n",
    "    converged = False;\n",
    "    \n",
    "    while (~converged & (it < itermax)):\n",
    "        it=it+1\n",
    "        dfx=fun_der(xn,*args)# valeur courante de la fonction à minimiser\n",
    "        \n",
    "        xnp1=xn-rho*dfx\n",
    "        fnp1 = fun(xnp1,*args)\n",
    "        \n",
    "        if fnp1 < f :\n",
    "            \n",
    "            if abs(fnp1-f)<tol:\n",
    "                converged = True\n",
    "                \n",
    "            xn, f = xnp1, fnp1\n",
    "            rho *= 2\n",
    "        else :\n",
    "            rho /= 2\n",
    "\n",
    "    GradResults = {\n",
    "            'initial_x':U0,\n",
    "            'minimum':xnp1,\n",
    "            'f_minimum':fnp1,\n",
    "            'iterations':it,\n",
    "            'converged':converged\n",
    "            }\n",
    "    return GradResults"
   ]
  },
  {
   "cell_type": "markdown",
   "metadata": {},
   "source": [
    "First, let's see if both versions give us the same minimum or not"
   ]
  },
  {
   "cell_type": "code",
   "execution_count": 5,
   "metadata": {},
   "outputs": [
    {
     "name": "stdout",
     "output_type": "stream",
     "text": [
      "the minimum value we reach with a constant stepsize: -1.8368912354010196\n",
      "the minimum value we reach with an adaptative stepsize: -1.817778210582762\n"
     ]
    }
   ],
   "source": [
    "res_gd_const = gradient_rho_constant(f1,df1,x0,rho=0.01,tol=1e-6,args=(B,S)) \n",
    "res_gd_adaptative = gradient_rho_adaptatif(f1,df1,x0,rho=0.01,tol=1e-6,args=(B,S)) \n",
    "print('the minimum value we reach with a constant stepsize:', res_gd_const['f_minimum'])\n",
    "print('the minimum value we reach with an adaptative stepsize:', res_gd_adaptative['f_minimum'])"
   ]
  },
  {
   "cell_type": "markdown",
   "metadata": {},
   "source": [
    "We can see that for the same stepsize, the simple version reaches a better minima."
   ]
  },
  {
   "cell_type": "markdown",
   "metadata": {},
   "source": [
    "Let's see if the adaptative version can deal with the convergence issue discussed above."
   ]
  },
  {
   "cell_type": "code",
   "execution_count": 6,
   "metadata": {},
   "outputs": [
    {
     "name": "stdout",
     "output_type": "stream",
     "text": [
      "for 1, did the algorithme converge?  True\n",
      "for 0.1, did the algorithme converge?  True\n",
      "for 0.05, did the algorithme converge?  True\n",
      "for 0.01, did the algorithme converge?  True\n",
      "for 0.001, did the algorithme converge?  True\n"
     ]
    }
   ],
   "source": [
    "rhos = [1, 0.1, 0.05, 0.01, 0.001]\n",
    "for rho in rhos :\n",
    "    results = gradient_rho_adaptatif(f1,df1,x0,rho=rho,tol=1e-6,args=(B,S))\n",
    "    print('for '+ str(rho) +', did the algorithme converge? ', results['converged'])"
   ]
  },
  {
   "cell_type": "markdown",
   "metadata": {},
   "source": [
    "**Indeed, it can converge for any stepsize we choose.**\n",
    "\n",
    "Another great benefit of using the adaptative version is the **speed of convergence**. We can further compare both algorithms by ploting the number of iterations required for the convergence of both versions depending of the stepsize we pick. For instance, we take values for which both algorithms can converge."
   ]
  },
  {
   "cell_type": "code",
   "execution_count": 7,
   "metadata": {},
   "outputs": [
    {
     "data": {
      "image/png": "[encoded data removed]",
      "text/plain": [
       "<Figure size 432x288 with 1 Axes>"
      ]
     },
     "metadata": {},
     "output_type": "display_data"
    }
   ],
   "source": [
    "rhos = [0.01, 0.005, 0.001, 0.0005, 0.0001]\n",
    "adaptative = [gradient_rho_adaptatif(f1,df1,x0,rho=rho,tol=1e-6,args=(B,S))['iterations'] for rho in rhos]\n",
    "constant = [gradient_rho_constant(f1,df1,x0,rho=rho,tol=1e-6,args=(B,S))['iterations'] for rho in rhos]\n",
    "\n",
    "plt.plot(adaptative, label= 'adaptative')\n",
    "plt.plot(constant, label = 'constant')\n",
    "plt.title('Comparaison of the speed of convergence for both algorithms')\n",
    "plt.legend()\n",
    "plt.show()"
   ]
  },
  {
   "cell_type": "markdown",
   "metadata": {},
   "source": [
    "The two algorithms make one call of the objective function in an iteration, and perform basic arithmetic operations inside the iterations loop. The complexity of such algorithms is **O(n)** with n the number of iterations. All the comparaisons then boil down to one criterion which is the convergence speed.\n",
    "\n",
    "As we know, the speed of convergence of the simple gradient descent is highly affected by the value of the stepsize we choose. The adaptative version however have a constant convergence speed and does not depend on the value of the stepsize. \n",
    "\n",
    "So if we want to conclude, we can say that in terms of convergence and speed, the adaptative version outperforms the constant one, but the simple gradient descent can give better minimas if we use a suitable stepsize."
   ]
  },
  {
   "cell_type": "markdown",
   "metadata": {},
   "source": [
    "#### 1.1.2 Quasi-Newton methods"
   ]
  },
  {
   "cell_type": "markdown",
   "metadata": {},
   "source": [
    "Let's compare now the performance of the BFGS method with the algorithms we implemented above."
   ]
  },
  {
   "cell_type": "code",
   "execution_count": 3,
   "metadata": {},
   "outputs": [],
   "source": [
    "from scipy.optimize import minimize"
   ]
  },
  {
   "cell_type": "code",
   "execution_count": 9,
   "metadata": {},
   "outputs": [
    {
     "data": {
      "text/plain": [
       "      fun: -1.836962311965238\n",
       " hess_inv: array([[ 0.5004328 , -0.21223272,  0.05691395, -0.28056012,  0.50919827],\n",
       "       [-0.21223272,  0.22383377,  0.0370393 ,  0.11542843, -0.34043246],\n",
       "       [ 0.05691395,  0.0370393 ,  0.1247386 , -0.04905887, -0.09108766],\n",
       "       [-0.28056012,  0.11542843, -0.04905887,  0.20504998, -0.28961765],\n",
       "       [ 0.50919827, -0.34043246, -0.09108766, -0.28961765,  0.77691404]])\n",
       "      jac: array([-2.98023224e-08, -8.94069672e-08,  1.49011612e-08, -1.49011612e-08,\n",
       "        1.49011612e-08])\n",
       "  message: 'Optimization terminated successfully.'\n",
       "     nfev: 91\n",
       "      nit: 10\n",
       "     njev: 13\n",
       "   status: 0\n",
       "  success: True\n",
       "        x: array([-0.69603139,  0.15793134, -0.61407083,  0.49414155, -0.05345803])"
      ]
     },
     "execution_count": 9,
     "metadata": {},
     "output_type": "execute_result"
    }
   ],
   "source": [
    "bfgs_results = minimize(fun = f1, x0 = x0, args=(B,S), method='BFGS', tol=1e-6)\n",
    "bfgs_results"
   ]
  },
  {
   "cell_type": "markdown",
   "metadata": {},
   "source": [
    "The speed of the BFGS method is phenomenal, it did converge after **10** iterations and a gave us a slighly better minima than our gradient descent implementations."
   ]
  },
  {
   "cell_type": "markdown",
   "metadata": {},
   "source": [
    "#### Closed form of the minima"
   ]
  },
  {
   "cell_type": "markdown",
   "metadata": {},
   "source": [
    "The objective function we have is a simple quadratic function, so an analytical solution can be easily found. It's Hessian matrix is **S** which is positive definite. "
   ]
  },
  {
   "cell_type": "code",
   "execution_count": 10,
   "metadata": {},
   "outputs": [
    {
     "data": {
      "text/plain": [
       "array([45.48200751, 14.49627115,  0.34399006,  1.89569112,  7.21954015])"
      ]
     },
     "execution_count": 10,
     "metadata": {},
     "output_type": "execute_result"
    }
   ],
   "source": [
    "np.linalg.eigvals(S)"
   ]
  },
  {
   "cell_type": "markdown",
   "metadata": {},
   "source": [
    "The eigenvalues of S are strictly positive, so our function is convex and an analytical solution of the minimum can be found by settinh the first derivative to zero."
   ]
  },
  {
   "cell_type": "code",
   "execution_count": 11,
   "metadata": {},
   "outputs": [
    {
     "name": "stdout",
     "output_type": "stream",
     "text": [
      "the analytical minimum is : -1.8369623119652505\n"
     ]
    }
   ],
   "source": [
    "S_1 = np.linalg.inv(S)\n",
    "minimum = 0.5*S_1*B\n",
    "f_minimum = f1(minimum, B, S)\n",
    "print('the analytical minimum is :', f_minimum)"
   ]
  },
  {
   "cell_type": "markdown",
   "metadata": {},
   "source": [
    "To confirm the performances of the quasi-newton methods, we can check the relative absolute difference between the analytical minimum and the result of the BFGS method."
   ]
  },
  {
   "cell_type": "code",
   "execution_count": 12,
   "metadata": {},
   "outputs": [
    {
     "data": {
      "text/plain": [
       "6.7690544301362755e-15"
      ]
     },
     "execution_count": 12,
     "metadata": {},
     "output_type": "execute_result"
    }
   ],
   "source": [
    "np.abs((f_minimum - bfgs_results['fun'])/f_minimum)"
   ]
  },
  {
   "cell_type": "markdown",
   "metadata": {},
   "source": [
    "The solution of the BFGS method is hugely precise."
   ]
  },
  {
   "cell_type": "markdown",
   "metadata": {},
   "source": [
    "## 1.2 Optimisation under constraints"
   ]
  },
  {
   "cell_type": "markdown",
   "metadata": {},
   "source": [
    "#### 1.2.1 Scipy method usage"
   ]
  },
  {
   "cell_type": "markdown",
   "metadata": {},
   "source": [
    "For the following results, we're gonna try to find the minimum of our functions in $ U = [0, 1]^5$"
   ]
  },
  {
   "cell_type": "markdown",
   "metadata": {},
   "source": [
    "we define the f2 function :"
   ]
  },
  {
   "cell_type": "code",
   "execution_count": 13,
   "metadata": {},
   "outputs": [],
   "source": [
    "def f2(U,S):\n",
    "    n=U.shape[0]\n",
    "    U=np.matrix(U)\n",
    "    U.shape=(n,1)\n",
    "    fU = np.transpose(U) * S * U + np.transpose(U) * np.exp(U);\n",
    "    return float(fU)"
   ]
  },
  {
   "cell_type": "markdown",
   "metadata": {},
   "source": [
    "We use the **Sequential Quadratic Programming** method to minimise both functions $f_1$ and $f_2$."
   ]
  },
  {
   "cell_type": "code",
   "execution_count": 14,
   "metadata": {},
   "outputs": [],
   "source": [
    "sqp_f1 = minimize(fun = f1, x0 = x0, args=(B,S), method='SLSQP', bounds=[(0,1)]*5, tol=1e-6)\n",
    "sqp_f2 = minimize(fun = f2, x0 = x0, args=(S), method='SLSQP', bounds=[(0,1)]*5, tol=1e-6)"
   ]
  },
  {
   "cell_type": "code",
   "execution_count": 15,
   "metadata": {},
   "outputs": [
    {
     "name": "stdout",
     "output_type": "stream",
     "text": [
      "the argmins and minimums for both function are: \n",
      "\n",
      "f1: argmin = [0.      0.12698 0.      0.01945 0.     ] f_min = -0.13853 \n",
      "\n",
      "f2: argmin = [0. 0. 0. 0. 0.] f_min = 0.0 \n",
      "\n"
     ]
    }
   ],
   "source": [
    "print('the argmins and minimums for both function are: \\n')\n",
    "print('f1: argmin =', np.round(sqp_f1['x'], 5), 'f_min =', np.round(sqp_f1['fun'], 5), '\\n')\n",
    "print('f2: argmin =', np.round(sqp_f2['x'], 5), 'f_min =', np.round(sqp_f2['fun'], 5), '\\n')"
   ]
  },
  {
   "cell_type": "markdown",
   "metadata": {},
   "source": [
    "Both solutions respect the boundaries (constraints)."
   ]
  },
  {
   "cell_type": "markdown",
   "metadata": {},
   "source": [
    "#### 1.2.2 Optimisation under constraints and penalisation"
   ]
  },
  {
   "cell_type": "markdown",
   "metadata": {},
   "source": [
    "We define a simple and classical penalisation function that is $C^{\\infty}$"
   ]
  },
  {
   "cell_type": "code",
   "execution_count": 16,
   "metadata": {},
   "outputs": [
    {
     "name": "stdout",
     "output_type": "stream",
     "text": [
      "Penalisation for x0: 0.0\n",
      "Penalisation for x0 + 2: 5.0\n",
      "Penalisation for x0 - 1: 5.0\n"
     ]
    }
   ],
   "source": [
    "Beta = lambda u : np.sum(np.maximum(u-1, 0)**2 + (np.maximum(-u,0))**2)\n",
    "print('Penalisation for x0:', Beta(x0))\n",
    "print('Penalisation for x0 + 2:', Beta(x0 + 1))\n",
    "print('Penalisation for x0 - 1:', Beta(x0 - 2))"
   ]
  },
  {
   "cell_type": "markdown",
   "metadata": {},
   "source": [
    "We define the penalisation method as follows :"
   ]
  },
  {
   "cell_type": "code",
   "execution_count": 17,
   "metadata": {},
   "outputs": [],
   "source": [
    "epsilon = 1/2#The start values for epsilon\n",
    "decay = 2 #The decay parameter for epsilon in each iteration\n",
    "num_iter = 1000 #number of iterations\n",
    "x_1, x_2 = x0, x0 # the starting point for both functions\n",
    "\n",
    "for k in range(num_iter):\n",
    "    f1_penal, f2_penal = lambda U : f1(U,B,S) + (1/epsilon)*Beta(U), lambda U : f2(U,S) + (1/epsilon)*Beta(U)\n",
    "    x_1 = minimize(fun = f1_penal, x0 = x_1, method='BFGS', tol=1e-6)['x']\n",
    "    x_2 = minimize(fun = f2_penal, x0 = x_2, method='BFGS', tol=1e-6)['x']\n",
    "    epsilon /= decay"
   ]
  },
  {
   "cell_type": "code",
   "execution_count": 18,
   "metadata": {},
   "outputs": [
    {
     "name": "stdout",
     "output_type": "stream",
     "text": [
      "the argmins and minimums for both function are: \n",
      "\n",
      "f1: argmin = [0.      0.12689 0.      0.01941 0.     ] f_min = -0.13853 \n",
      "\n",
      "f2: argmin = [0. 0. 0. 0. 0.] f_min = 0.0 \n",
      "\n"
     ]
    }
   ],
   "source": [
    "print('the argmins and minimums for both function are: \\n')\n",
    "print('f1: argmin =', np.round(x_1, 5), 'f_min =', np.round(f1(x_1,B,S), 5), '\\n')\n",
    "print('f2: argmin =', np.round(x_2, 5), 'f_min =', np.round(f2(x_2,S), 5), '\\n')"
   ]
  },
  {
   "cell_type": "markdown",
   "metadata": {},
   "source": [
    "We can see that both methods give close results."
   ]
  },
  {
   "cell_type": "markdown",
   "metadata": {},
   "source": [
    "#### 1.2.3 Dual methods for optimisation under constraints"
   ]
  },
  {
   "cell_type": "markdown",
   "metadata": {},
   "source": [
    "For the Uzawa algorithm, we need to define the Lagragian function and it's derivative. We know that our constraints are affine functions so the dual gap is equal to zero. We can surely obtain the true minimum by applying this method."
   ]
  },
  {
   "cell_type": "code",
   "execution_count": 19,
   "metadata": {},
   "outputs": [],
   "source": [
    "# Lagrangian implementation \n",
    "\n",
    "def Lagragian1(U,p):\n",
    "    low_bound, up_bound = -U, U-1\n",
    "    return f1(U,B,S) + np.sum(p*np.concatenate([low_bound, up_bound], axis=0))\n",
    "    \n",
    "\n",
    "def dLagrangian1(U,p):\n",
    "    low_bound, up_bound = -U, U-1\n",
    "    return np.concatenate([low_bound, up_bound], axis=0)\n"
   ]
  },
  {
   "cell_type": "markdown",
   "metadata": {},
   "source": [
    "**The Uzawa algorithm**"
   ]
  },
  {
   "cell_type": "code",
   "execution_count": 20,
   "metadata": {},
   "outputs": [],
   "source": [
    "def uzawa(Lagrangian, dL, p0, x0, rho, iterations):\n",
    "    p_max, x_min = p0, x0\n",
    "    for i in range(iterations) : \n",
    "        x_min = minimize(fun = Lagrangian, x0 = x_min, args= (p_max), method='BFGS', tol=1e-6)['x']\n",
    "        p_max = np.maximum(0 , p_max + (rho)*dL(x_min,p_max))\n",
    "    return {'x_min': x_min, 'p_max': p_max, 'l_min': Lagragian1(x_min, p_max)}"
   ]
  },
  {
   "cell_type": "code",
   "execution_count": 21,
   "metadata": {},
   "outputs": [],
   "source": [
    "p0 = np.zeros(10)\n",
    "results = uzawa(Lagrangian=Lagragian1, dL=dLagrangian1 , p0=p0 , x0=x0, rho=1, iterations=1000)\n",
    "x_min, l_min = results['x_min'], results['l_min']"
   ]
  },
  {
   "cell_type": "code",
   "execution_count": 22,
   "metadata": {},
   "outputs": [
    {
     "name": "stdout",
     "output_type": "stream",
     "text": [
      "Lagrangian: argmaxmin = [-0.       0.12689 -0.       0.01941 -0.     ] l_min = -0.13853 \n",
      "\n"
     ]
    }
   ],
   "source": [
    "print('Lagrangian: argmaxmin =', np.round(x_min, 5), 'l_min =', np.round(l_min, 5), '\\n')"
   ]
  },
  {
   "cell_type": "markdown",
   "metadata": {},
   "source": [
    "We can see that our claims are confirmed and there is no duality gap. the solution for the dual problem matches the first solutions we got"
   ]
  },
  {
   "cell_type": "markdown",
   "metadata": {},
   "source": [
    "## 1.3 Non Convex Optimisation : Simulated Annealing"
   ]
  },
  {
   "cell_type": "markdown",
   "metadata": {},
   "source": [
    "In this section, we're gonna tackle a non convex problem, and try the simulated annealing algorithm to deal with it.\n",
    "\n",
    " We define $f_3$ wich is clearly a non convex function."
   ]
  },
  {
   "cell_type": "code",
   "execution_count": 23,
   "metadata": {},
   "outputs": [],
   "source": [
    "def f3(U) : \n",
    "    return f1(U,B,S) + 10*np.sin(2*f1(U,B,S))"
   ]
  },
  {
   "cell_type": "markdown",
   "metadata": {},
   "source": [
    "Let's try a convex optimisation algorithm on this function with different starting points."
   ]
  },
  {
   "cell_type": "code",
   "execution_count": 86,
   "metadata": {},
   "outputs": [
    {
     "name": "stdout",
     "output_type": "stream",
     "text": [
      "for try 1/10 we get f_min: -10.7979\n",
      "for try 2/10 we get f_min: -1.37312\n",
      "for try 3/10 we get f_min: -1.37312\n",
      "for try 4/10 we get f_min: 14.33484\n",
      "for try 5/10 we get f_min: 4.91006\n",
      "for try 6/10 we get f_min: 26.90121\n",
      "for try 7/10 we get f_min: 55.17554\n",
      "for try 8/10 we get f_min: -1.37312\n",
      "for try 9/10 we get f_min: 36.32599\n",
      "for try 10/10 we get f_min: 11.19325\n"
     ]
    }
   ],
   "source": [
    "rng = np.random.RandomState(1)\n",
    "for i in range(10) : \n",
    "    x_init = rng.uniform(-1,1,5)\n",
    "    print(\"for try {}/10 we get f_min: {}\".format(i+1, np.round(minimize(fun = f3, x0 = x_init, method='BFGS', tol=1e-6)['fun'],5)))"
   ]
  },
  {
   "cell_type": "markdown",
   "metadata": {},
   "source": [
    "Indeed, the algorithm converges to different local minimas but we can't confirm that the minimum of them all isn't a global minima. This can say that in the ***general case***, the algorithm converges to a local minima.\n",
    "\n",
    "Let's try the simulated annealing which is more suitable to non convex  problems.\n",
    "\n",
    "In scipy, the simulated annealing function is deprecated and they propose a better algorithm under the name of basinhopping"
   ]
  },
  {
   "cell_type": "code",
   "execution_count": 25,
   "metadata": {},
   "outputs": [],
   "source": [
    "from scipy.optimize import basinhopping"
   ]
  },
  {
   "cell_type": "code",
   "execution_count": 26,
   "metadata": {},
   "outputs": [
    {
     "name": "stdout",
     "output_type": "stream",
     "text": [
      "for try 1/5 we get f_min : -10.7979 argmin : [-0.09805  0.00075 -0.43012  0.36459  0.34732]\n",
      "for try 2/5 we get f_min : -10.7979 argmin : [-0.8726   0.07141 -0.62244  0.73916 -0.04299]\n",
      "for try 3/5 we get f_min : -10.7979 argmin : [-0.50165  0.12506 -0.31614  0.1096  -0.08979]\n",
      "for try 4/5 we get f_min : -10.7979 argmin : [ 0.05298 -0.01769 -0.26537  0.12998  0.39975]\n",
      "for try 5/5 we get f_min : -10.7979 argmin : [-0.51921  0.11437 -0.80039  0.68051  0.24571]\n"
     ]
    }
   ],
   "source": [
    "rng = np.random.RandomState(1)\n",
    "for i in range(5) : \n",
    "    x_init = rng.uniform(-1,1,5)\n",
    "    results = basinhopping(f3, x0 )\n",
    "    print(\"for try {}/5 we get f_min : {}\".format(i+1,np.round(results['fun'],5)), 'argmin :', np.round(results['x'],5))"
   ]
  },
  {
   "cell_type": "markdown",
   "metadata": {},
   "source": [
    "We can see that we always converge to the same minima, which is the ***best minima*** we got so far, but not the the same argmin due to the fact that our function is undulating. that means that the algorithm explores well the space of interest and ends up giving us the best minima we got (probably **the global minima**)."
   ]
  },
  {
   "cell_type": "markdown",
   "metadata": {},
   "source": [
    "## 1.4 Application to signal processing"
   ]
  },
  {
   "cell_type": "markdown",
   "metadata": {},
   "source": [
    "We define $H_0$ the ideal frequency response to be : $$ H_0(\\nu) = 1 \\quad for \\quad \\nu \\in [0, 0.1] \\quad, \\quad 0 \\quad \\quad for \\quad \\nu \\in [0.15, 0.5]$$\n",
    " \n",
    "and try to approximate it with an even function $H$ defined as follow:\n",
    "$$H(\\nu) = \\sum_{i=0}^{n}h[i]\\cos(2\\pi \\nu i)$$\n",
    "\n",
    "To do so, we try a discretisation of both frequencies intervals $\\{v_j\\}_{1\\leq j \\leq p}$ and define a criterion to minimize over all $h[i]$ :\n",
    "$$J(h) = \\max\\limits_{j}\\left| H_0(\\nu_j) - H(\\nu_j)\\right|$$"
   ]
  },
  {
   "cell_type": "code",
   "execution_count": 18,
   "metadata": {},
   "outputs": [],
   "source": [
    "H0 = np.vectorize(lambda v : 1 if (v >= 0 and v<= 0.1) else 0 if (v >= 0.15 and v<= 0.5) else None)\n",
    "\n",
    "#h must be a (30,) dimension array\n",
    "H = np.vectorize(lambda h,v : np.sum(h*np.cos(2*np.pi*v*np.arange(30))))\n",
    "H.excluded.add(0)"
   ]
  },
  {
   "cell_type": "markdown",
   "metadata": {},
   "source": [
    "The intervals have a length ratio of **3:8**, so for the sake of simplicity, we're gonna take 65 points for both intervals (15 for the first and 40 for the second)."
   ]
  },
  {
   "cell_type": "code",
   "execution_count": 19,
   "metadata": {},
   "outputs": [],
   "source": [
    "v = np.concatenate((np.linspace(0, 0.1, 15),np.linspace(0.15, 0.5, 40)))\n"
   ]
  },
  {
   "cell_type": "code",
   "execution_count": 20,
   "metadata": {},
   "outputs": [],
   "source": [
    "#the criterion to minimize\n",
    "J = lambda h : np.max(np.abs(H0(v) - H(h,v)))"
   ]
  },
  {
   "cell_type": "code",
   "execution_count": 21,
   "metadata": {},
   "outputs": [
    {
     "name": "stdout",
     "output_type": "stream",
     "text": [
      "for try 1/10 we get f_min: 0.35178248323312844\n",
      "for try 2/10 we get f_min: 4.265804938070777\n",
      "for try 3/10 we get f_min: 0.6964014679287449\n"
     ]
    }
   ],
   "source": [
    "rng = np.random.RandomState(1)\n",
    "for i in range(3) : \n",
    "    x0 = rng.normal(size = 30)\n",
    "    results = minimize(J, x0, method='BFGS', tol=1e-6)\n",
    "    print(\"for try {}/10 we get f_min: {}\".format(i+1,results['fun']))"
   ]
  },
  {
   "cell_type": "code",
   "execution_count": 11,
   "metadata": {},
   "outputs": [
    {
     "name": "stdout",
     "output_type": "stream",
     "text": [
      "for try 1/10 we get f_min: 5.501589932460395\n",
      "for try 2/10 we get f_min: 4.8510053676540785\n",
      "for try 3/10 we get f_min: 3.6155587046744317\n"
     ]
    }
   ],
   "source": [
    "rng = np.random.RandomState(1)\n",
    "for i in range(3) : \n",
    "    x0 = rng.normal(size = 30)\n",
    "    results = minimize(J, x0, method='Nelder-Mead', tol=1e-6)\n",
    "    print(\"for try {}/10 we get f_min: {}\".format(i+1,results['fun']))"
   ]
  },
  {
   "cell_type": "markdown",
   "metadata": {},
   "source": [
    "We can see that the algorithm can't find a global minima, it gets stuck in local minimas. \n",
    "it takes more time then on the other functions as this one isn't regular enough."
   ]
  },
  {
   "cell_type": "markdown",
   "metadata": {},
   "source": [
    "We can rewrite the problem as a linear one with constraints. \n",
    "$$ \\min\\limits_{h} \\quad \\max\\limits_{j}\\left| H_0(\\nu_j) - H(\\nu_j)\\right| $$\n",
    "which then becomes : \n",
    "$$ \\min\\limits_{(h,z)} z  $$\n",
    "Such that $$   \\left| H_0(\\nu_j) - H(\\nu_j)\\right| \\le z    $$"
   ]
  },
  {
   "cell_type": "code",
   "execution_count": null,
   "metadata": {},
   "outputs": [],
   "source": []
  },
  {
   "cell_type": "code",
   "execution_count": null,
   "metadata": {},
   "outputs": [],
   "source": []
  },
  {
   "cell_type": "code",
   "execution_count": null,
   "metadata": {},
   "outputs": [],
   "source": []
  }
 ],
 "metadata": {
  "kernelspec": {
   "display_name": "Python 3",
   "language": "python",
   "name": "python3"
  },
  "language_info": {
   "codemirror_mode": {
    "name": "ipython",
    "version": 3
   },
   "file_extension": ".py",
   "mimetype": "text/x-python",
   "name": "python",
   "nbconvert_exporter": "python",
   "pygments_lexer": "ipython3",
   "version": "3.7.0"
  }
 },
 "nbformat": 4,
 "nbformat_minor": 2
}
